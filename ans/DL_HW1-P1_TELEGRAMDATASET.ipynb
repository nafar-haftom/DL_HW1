{
  "nbformat": 4,
  "nbformat_minor": 0,
  "metadata": {
    "colab": {
      "provenance": []
    },
    "kernelspec": {
      "name": "python3",
      "display_name": "Python 3"
    },
    "language_info": {
      "name": "python"
    }
  },
  "cells": [
    {
      "cell_type": "code",
      "execution_count": null,
      "metadata": {
        "id": "vmPz-mbxahrV"
      },
      "outputs": [],
      "source": [
        "name= \"Mohammad Ghafourian\"\n",
        "student_number = \"99106493\""
      ]
    },
    {
      "cell_type": "code",
      "source": [
        "import pandas as pd\n",
        "import numpy as np\n",
        "from sklearn.decomposition import PCA\n",
        "from sklearn.metrics import accuracy_score"
      ],
      "metadata": {
        "id": "MMDm201banCu"
      },
      "execution_count": 1,
      "outputs": []
    },
    {
      "cell_type": "code",
      "source": [
        "# (10 Points)\n",
        "def entropy(y: pd.Series):\n",
        "    \"\"\"\n",
        "    return the entropy of input\n",
        "    \"\"\"\n",
        "    unique, counts = np.unique(y, return_counts=True)\n",
        "    probs = counts / len(y)\n",
        "    entropy = -np.sum(probs * np.log2(probs))\n",
        "    return entropy\n",
        "\n",
        "\n",
        "def information_gain(x: pd.Series, y: pd.Series):\n",
        "    \"\"\"\n",
        "    return the information gain of x\n",
        "    \"\"\"\n",
        "    unique = x.unique()\n",
        "    entropy_parent = entropy(y)\n",
        "    weighted_sum = 0\n",
        "    for value in unique:\n",
        "        subset_y = y[x == value]\n",
        "        entropy_child = entropy(subset_y)\n",
        "        weighted_sum += (len(subset_y) / len(y)) * entropy_child\n",
        "    info_gain = entropy_parent - weighted_sum\n",
        "    return info_gain\n",
        "\n",
        "\n",
        "def information_gains(X: pd.DataFrame, y: pd.Series):\n",
        "    \"\"\"\n",
        "    return the information gain of all features\n",
        "    \"\"\"\n",
        "    info_gains = {}\n",
        "    for feature in X.columns:\n",
        "        info_gains[feature] = information_gain(X[feature], y)\n",
        "    return info_gains"
      ],
      "metadata": {
        "id": "mcyzFkFnb5by"
      },
      "execution_count": 2,
      "outputs": []
    },
    {
      "cell_type": "code",
      "source": [
        "# you can add any variable or function to class if you need.\n",
        "class Node:\n",
        "    def __init__(self, depth):\n",
        "      # Each node in the tree is an instance of class `Node` which is capable of predicting and fitting.\n",
        "        self.depth = depth\n",
        "        self.best_feature = ''\n",
        "        self.children = []\n",
        "        self.threashold = None\n",
        "        self.choice = None\n",
        "\n",
        "    def _is_leaf(self):\n",
        "        return len(self.children) == 0\n",
        "\n",
        "    def fit(self, X_train, y_train):\n",
        "        \"\"\"\n",
        "        learn the best_feature and create the children of this node\n",
        "        - In the `fit` function this node gets features and labels from its father and using information gain decides which feature to use.\n",
        "         Also based on the decided class it will create its children and call their fit function passing relevant features and labels.\n",
        "        \"\"\"\n",
        "        ########## [Your Code] ##########\n",
        "        info_gains = information_gains(X_train, y_train)\n",
        "        if max(info_gains.values()) == 0:\n",
        "            self.choice = y_train.value_counts().idxmax()\n",
        "            return\n",
        "        self.best_feature = max(info_gains, key=info_gains.get)\n",
        "        unique_values = X_train[self.best_feature].unique()\n",
        "        for value in unique_values:\n",
        "            child = Node(self.depth + 1)\n",
        "            child.best_feature = None\n",
        "            child.threshold = None\n",
        "            child.choice = None\n",
        "            child_data = X_train[X_train[self.best_feature] == value]\n",
        "            child_labels = y_train[X_train[self.best_feature] == value]\n",
        "            if len(child_data) == 0:\n",
        "                child.choice = y_train.value_counts().idxmax()\n",
        "                self.children.append(child)\n",
        "                continue\n",
        "            if len(child_labels.unique()) == 1:\n",
        "                child.choice = child_labels.unique()[0]\n",
        "                self.children.append(child)\n",
        "                continue\n",
        "            self.children.append(child)\n",
        "            child.fit(child_data, child_labels)\n",
        "\n",
        "    def predict(self, X):\n",
        "        \"\"\"\n",
        "        predicte the class of X based on this node best_feature\n",
        "        - In the `predict` function this node gets features as input and based on its best_feature decides on this input. If this node is a leaf,\n",
        "         it will return the decision imediatly and if it's not a leaf, it will return the prediction of its decided child.\n",
        "        \"\"\"\n",
        "        ########## [Your Code] ##########\n",
        "        if self.choice is not None:\n",
        "            return self.choice\n",
        "        feature_value = X[self.best_feature]\n",
        "        for child in self.children:\n",
        "            if feature_value == child.threshold:\n",
        "                return child.predict(X)\n",
        "        return self.children[0].predict(X)\n",
        "class DecisionTree:\n",
        "    def __init__(self, max_depth=None):\n",
        "        self.max_depth = max_depth\n",
        "        self.root = None\n",
        "\n",
        "    def fit(self, X_train, y_train):\n",
        "        self.root = Node(0)\n",
        "        self.root.fit(X_train, y_train)\n",
        "\n",
        "    def predict(self, X_test):\n",
        "        y_pred = []\n",
        "        for _, row in X_test.iterrows():\n",
        "            y_pred.append(self.root.predict(row))\n",
        "        return pd.Series(y_pred)\n"
      ],
      "metadata": {
        "id": "vXyW_42lcAO1"
      },
      "execution_count": 3,
      "outputs": []
    },
    {
      "cell_type": "code",
      "source": [
        "df = pd.read_csv(\"diabetes.csv\")\n",
        "X = df.drop(columns=['Outcome'])\n",
        "y = df['Outcome']\n",
        "from sklearn.model_selection import train_test_split\n",
        "\n",
        "X_train, X_test, y_train, y_test = train_test_split(X, y, test_size=0.2, random_state=42)\n"
      ],
      "metadata": {
        "id": "Qy3OzrWmcAzo"
      },
      "execution_count": 4,
      "outputs": []
    },
    {
      "cell_type": "code",
      "source": [
        "\n",
        "#################################\n",
        "#   train dt on you train set   #\n",
        "#          Your Code            #\n",
        "#################################\n",
        "tree = DecisionTree(max_depth=15)\n",
        "\n",
        "# Fit the model\n",
        "tree.fit(X_train, y_train)\n",
        "y_pred = tree.predict(X_test)"
      ],
      "metadata": {
        "id": "AH8S9FkkcDsw"
      },
      "execution_count": 5,
      "outputs": []
    },
    {
      "cell_type": "code",
      "source": [
        "#############################\n",
        "#   report model accuracy   #\n",
        "#        Your Code          #\n",
        "#############################\n",
        "accuracy = accuracy_score(y_test, y_pred)\n",
        "print(\"Accuracy:\", accuracy)\n"
      ],
      "metadata": {
        "colab": {
          "base_uri": "https://localhost:8080/"
        },
        "id": "MMAdWMw9cIFb",
        "outputId": "8d6113cb-a3ea-4496-d16b-a02f14e7036d"
      },
      "execution_count": 6,
      "outputs": [
        {
          "output_type": "stream",
          "name": "stdout",
          "text": [
            "Accuracy: 0.6428571428571429\n"
          ]
        }
      ]
    }
  ]
}